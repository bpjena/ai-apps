{
 "cells": [
  {
   "cell_type": "code",
   "execution_count": 5,
   "id": "006d43ae",
   "metadata": {},
   "outputs": [],
   "source": [
    "!pip install -r ./requirements.txt -q"
   ]
  },
  {
   "cell_type": "markdown",
   "id": "e66b8f33",
   "metadata": {},
   "source": [
    "provide `-q` for quiet mode, _don't need to see the logs, details, etc_"
   ]
  },
  {
   "cell_type": "code",
   "execution_count": 4,
   "id": "3535f1e4",
   "metadata": {},
   "outputs": [
    {
     "name": "stdout",
     "output_type": "stream",
     "text": [
      "\n",
      "\u001b[1m[\u001b[0m\u001b[34;49mnotice\u001b[0m\u001b[1;39;49m]\u001b[0m\u001b[39;49m A new release of pip is available: \u001b[0m\u001b[31;49m23.0.1\u001b[0m\u001b[39;49m -> \u001b[0m\u001b[32;49m23.3.1\u001b[0m\n",
      "\u001b[1m[\u001b[0m\u001b[34;49mnotice\u001b[0m\u001b[1;39;49m]\u001b[0m\u001b[39;49m To update, run: \u001b[0m\u001b[32;49m/opt/homebrew/opt/python@3.11/bin/python3.11 -m pip install --upgrade pip\u001b[0m\n",
      "Note: you may need to restart the kernel to use updated packages.\n"
     ]
    }
   ],
   "source": [
    "pip install -r ./requirements.txt -q\n",
    "# !pip install - installs packages in base environment\n",
    "# pip install - installs packages in virtual environment"
   ]
  },
  {
   "cell_type": "code",
   "execution_count": 1,
   "id": "1b74e515",
   "metadata": {},
   "outputs": [
    {
     "name": "stdout",
     "output_type": "stream",
     "text": [
      "Name: langchain\n",
      "Version: 0.0.340\n",
      "Summary: Building applications with LLMs through composability\n",
      "Home-page: https://github.com/langchain-ai/langchain\n",
      "Author: \n",
      "Author-email: \n",
      "License: MIT\n",
      "Location: /opt/homebrew/lib/python3.11/site-packages\n",
      "Requires: aiohttp, anyio, dataclasses-json, jsonpatch, langsmith, numpy, pydantic, PyYAML, requests, SQLAlchemy, tenacity\n",
      "Required-by: \n",
      "Note: you may need to restart the kernel to use updated packages.\n"
     ]
    }
   ],
   "source": [
    "pip show langchain"
   ]
  },
  {
   "cell_type": "markdown",
   "id": "f37f51b2",
   "metadata": {},
   "source": [
    "for upgrading specific packages, use `--upgrade`"
   ]
  },
  {
   "cell_type": "code",
   "execution_count": 3,
   "id": "6c60505f",
   "metadata": {},
   "outputs": [],
   "source": [
    "!pip install langchain --upgrade -q"
   ]
  },
  {
   "cell_type": "markdown",
   "id": "acf32cf7",
   "metadata": {},
   "source": [
    "#### python-dotenv"
   ]
  },
  {
   "cell_type": "code",
   "execution_count": 6,
   "id": "48310bc8",
   "metadata": {},
   "outputs": [
    {
     "data": {
      "text/plain": [
       "'9a23a3db-950b-415d-ac3b-46eca6caee75'"
      ]
     },
     "execution_count": 6,
     "metadata": {},
     "output_type": "execute_result"
    }
   ],
   "source": [
    "import os\n",
    "from dotenv import load_dotenv, find_dotenv\n",
    "load_dotenv(find_dotenv(), override=True)\n",
    "# load_dotenv(./.env) -- does the same thing as ^, but not preferred since hardcode file name\n",
    "\n",
    "os.environ.get('PINECONE_API_KEY')"
   ]
  },
  {
   "cell_type": "code",
   "execution_count": 7,
   "id": "4631308a",
   "metadata": {},
   "outputs": [
    {
     "data": {
      "text/plain": [
       "'gcp-starter'"
      ]
     },
     "execution_count": 7,
     "metadata": {},
     "output_type": "execute_result"
    }
   ],
   "source": [
    "os.environ.get('PINECONE_ENV')"
   ]
  },
  {
   "cell_type": "markdown",
   "id": "fdf483bd",
   "metadata": {},
   "source": [
    "##### SIMPLE LLM : text input, text output"
   ]
  },
  {
   "cell_type": "markdown",
   "id": "d0426f6c",
   "metadata": {},
   "source": [
    "#### LLM Models (wrappers) : GPT-3"
   ]
  },
  {
   "cell_type": "code",
   "execution_count": 8,
   "id": "a3abb44c",
   "metadata": {},
   "outputs": [
    {
     "name": "stdout",
     "output_type": "stream",
     "text": [
      "\u001b[1mOpenAI\u001b[0m\n",
      "Params: {'model_name': 'text-davinci-003', 'temperature': 0.7, 'top_p': 1, 'frequency_penalty': 0, 'presence_penalty': 0, 'n': 1, 'logit_bias': {}, 'max_tokens': 512}\n"
     ]
    }
   ],
   "source": [
    "from langchain.llms import OpenAI\n",
    "llm = OpenAI(model_name='text-davinci-003', temperature=0.7, max_tokens=512)\n",
    "print(llm)"
   ]
  },
  {
   "cell_type": "code",
   "execution_count": 10,
   "id": "eb656ea5",
   "metadata": {},
   "outputs": [
    {
     "name": "stdout",
     "output_type": "stream",
     "text": [
      "\n",
      "\n",
      "Corruption, poverty, overpopulation, environmental degradation, injustice.\n"
     ]
    }
   ],
   "source": [
    "output_1 = llm('explain india negatively in 20 words')\n",
    "print(output_1)"
   ]
  },
  {
   "cell_type": "code",
   "execution_count": 11,
   "id": "db5ea86d",
   "metadata": {},
   "outputs": [
    {
     "name": "stdout",
     "output_type": "stream",
     "text": [
      "\n",
      "\n",
      "India is a vibrant, diverse and welcoming nation with a rich cultural heritage.\n"
     ]
    }
   ],
   "source": [
    "output_2 = llm('explain india positively in 20 words')\n",
    "print(output_2)"
   ]
  },
  {
   "cell_type": "code",
   "execution_count": 12,
   "id": "2a472190",
   "metadata": {},
   "outputs": [
    {
     "name": "stdout",
     "output_type": "stream",
     "text": [
      "\n",
      "\n",
      "India is a diverse and dynamic country with a rich cultural heritage.\n"
     ]
    }
   ],
   "source": [
    "output = llm('explain india in a sentence')\n",
    "print(output)"
   ]
  },
  {
   "cell_type": "code",
   "execution_count": 13,
   "id": "2f49cd75",
   "metadata": {},
   "outputs": [
    {
     "name": "stdout",
     "output_type": "stream",
     "text": [
      "7\n"
     ]
    }
   ],
   "source": [
    "print(llm.get_num_tokens('explain india in a sentence'))"
   ]
  },
  {
   "cell_type": "code",
   "execution_count": 14,
   "id": "7aaff9bb",
   "metadata": {},
   "outputs": [
    {
     "name": "stdout",
     "output_type": "stream",
     "text": [
      "generations=[[Generation(text='\\n\\nNew Delhi is the capital of India.', generation_info={'finish_reason': 'stop', 'logprobs': None})], [Generation(text='\\n\\nThe formula for the volume of a cone is V = 1/3πr2h, where r is the radius and h is the height of the cone.', generation_info={'finish_reason': 'stop', 'logprobs': None})]] llm_output={'token_usage': {'prompt_tokens': 16, 'total_tokens': 61, 'completion_tokens': 45}, 'model_name': 'text-davinci-003'} run=[RunInfo(run_id=UUID('dba9244f-6479-4b6d-a8f4-34e73c2384b8')), RunInfo(run_id=UUID('0e60dc5e-64e9-4a12-8e60-955f32bff760'))]\n"
     ]
    }
   ],
   "source": [
    "output = llm.generate(['... is the capital of India', 'what is the formula for volume of a cone?'])\n",
    "print(output)"
   ]
  },
  {
   "cell_type": "code",
   "execution_count": 15,
   "id": "6ab6ba78",
   "metadata": {},
   "outputs": [
    {
     "name": "stdout",
     "output_type": "stream",
     "text": [
      "[[Generation(text='\\n\\nNew Delhi is the capital of India.', generation_info={'finish_reason': 'stop', 'logprobs': None})], [Generation(text='\\n\\nThe formula for the volume of a cone is V = 1/3πr2h, where r is the radius and h is the height of the cone.', generation_info={'finish_reason': 'stop', 'logprobs': None})]]\n"
     ]
    }
   ],
   "source": [
    "print(output.generations)"
   ]
  },
  {
   "cell_type": "raw",
   "id": "4f66f454",
   "metadata": {},
   "source": [
    "-- to get only one answer, will need to fetch the item from the list i.e. list parsing"
   ]
  },
  {
   "cell_type": "code",
   "execution_count": 16,
   "id": "ab012899",
   "metadata": {},
   "outputs": [
    {
     "name": "stdout",
     "output_type": "stream",
     "text": [
      "\n",
      "\n",
      "The formula for the volume of a cone is V = 1/3πr2h, where r is the radius and h is the height of the cone.\n"
     ]
    }
   ],
   "source": [
    "print(output.generations[1][0].text)\n",
    "# gives answer to the 2nd part of the question i.e. list[1]"
   ]
  },
  {
   "cell_type": "code",
   "execution_count": 17,
   "id": "6931d958",
   "metadata": {},
   "outputs": [
    {
     "name": "stdout",
     "output_type": "stream",
     "text": [
      "\n",
      "\n",
      "New Delhi is the capital of India.\n"
     ]
    }
   ],
   "source": [
    "print(output.generations[0][0].text)\n",
    "# gives answer to the 1st part of the question i.e. list[0]"
   ]
  },
  {
   "cell_type": "raw",
   "id": "6e20ad44",
   "metadata": {},
   "source": [
    "-- to get how many generations it gave"
   ]
  },
  {
   "cell_type": "code",
   "execution_count": 18,
   "id": "acde2ae5",
   "metadata": {},
   "outputs": [
    {
     "data": {
      "text/plain": [
       "2"
      ]
     },
     "execution_count": 18,
     "metadata": {},
     "output_type": "execute_result"
    }
   ],
   "source": [
    "len(output.generations)"
   ]
  },
  {
   "cell_type": "raw",
   "id": "dc79e08e",
   "metadata": {},
   "source": [
    "-- to request more than 1 answer"
   ]
  },
  {
   "cell_type": "code",
   "execution_count": 19,
   "id": "757f2d11",
   "metadata": {},
   "outputs": [],
   "source": [
    "output = llm.generate(['Write an original tagline for Data Analytics & IT Company'] * 3)"
   ]
  },
  {
   "cell_type": "code",
   "execution_count": 20,
   "id": "fdee724a",
   "metadata": {},
   "outputs": [
    {
     "name": "stdout",
     "output_type": "stream",
     "text": [
      "generations=[[Generation(text='\\n\\n\"Unlock the power of data with our Analytics & IT solutions\"', generation_info={'finish_reason': 'stop', 'logprobs': None})], [Generation(text='\\n\\n\"Unlock the Power of Data with Our Innovative Analytics Solutions\"', generation_info={'finish_reason': 'stop', 'logprobs': None})], [Generation(text='\\n\\n\"Unlocking the Power of Data with IT Solutions\"', generation_info={'finish_reason': 'stop', 'logprobs': None})]] llm_output={'token_usage': {'prompt_tokens': 33, 'total_tokens': 78, 'completion_tokens': 45}, 'model_name': 'text-davinci-003'} run=[RunInfo(run_id=UUID('50ac6216-1a62-4089-bafa-7f219052ad47')), RunInfo(run_id=UUID('4777b805-0135-45c7-ba91-56928855ca9a')), RunInfo(run_id=UUID('040a367b-e693-4aca-9b64-8cbf6e451bd8'))]\n"
     ]
    }
   ],
   "source": [
    "print(output)"
   ]
  },
  {
   "cell_type": "code",
   "execution_count": 22,
   "id": "8aec9bcc",
   "metadata": {},
   "outputs": [
    {
     "name": "stdout",
     "output_type": "stream",
     "text": [
      "\n",
      "\n",
      "\"Unlock the power of data with our Analytics & IT solutions\"\n",
      "\n",
      "\n",
      "\"Unlock the Power of Data with Our Innovative Analytics Solutions\"\n",
      "\n",
      "\n",
      "\"Unlocking the Power of Data with IT Solutions\"\n"
     ]
    }
   ],
   "source": [
    "for o in output.generations:\n",
    "    print(o[0].text)"
   ]
  },
  {
   "cell_type": "code",
   "execution_count": 23,
   "id": "9b74cd13",
   "metadata": {},
   "outputs": [
    {
     "name": "stdout",
     "output_type": "stream",
     "text": [
      "\n",
      "\n",
      "\"Unlock the power of data with our Analytics & IT solutions\"\n",
      "\n",
      "\"Unlock the Power of Data with Our Innovative Analytics Solutions\"\n",
      "\n",
      "\"Unlocking the Power of Data with IT Solutions\""
     ]
    }
   ],
   "source": [
    "for o in output.generations:\n",
    "    print(o[0].text, end='')"
   ]
  },
  {
   "cell_type": "markdown",
   "id": "ca9dd801",
   "metadata": {},
   "source": [
    "#### ChatModels : GPT-3.5-Turbo and GPT-4"
   ]
  },
  {
   "cell_type": "code",
   "execution_count": 24,
   "id": "d25cfe18",
   "metadata": {},
   "outputs": [],
   "source": [
    "from langchain.schema import(\n",
    "        AIMessage,\n",
    "        HumanMessage,\n",
    "        SystemMessage\n",
    "        )\n",
    "from langchain.chat_models import ChatOpenAI"
   ]
  },
  {
   "cell_type": "code",
   "execution_count": 26,
   "id": "c5d5941e",
   "metadata": {},
   "outputs": [],
   "source": [
    "chat = ChatOpenAI(model_name='gpt-3.5-turbo', temperature=0.5, max_tokens=1024)\n",
    "messages = [\n",
    "    SystemMessage(content='You are a statistician and respond only in Hindi.'),\n",
    "    HumanMessage(content='explain india in a sentence')\n",
    "]\n",
    "output = chat(messages)"
   ]
  },
  {
   "cell_type": "code",
   "execution_count": 27,
   "id": "16de6906",
   "metadata": {},
   "outputs": [
    {
     "name": "stdout",
     "output_type": "stream",
     "text": [
      "content='भारत एक विविधतापूर्ण और समृद्ध देश है, जहां सभ्यता, भाषा, धर्म और संस्कृति का अद्वितीय मेल मिलाप होता है।'\n"
     ]
    }
   ],
   "source": [
    "print(output)"
   ]
  },
  {
   "cell_type": "code",
   "execution_count": 28,
   "id": "0a30c2cb",
   "metadata": {},
   "outputs": [
    {
     "name": "stdout",
     "output_type": "stream",
     "text": [
      "भारत एक विविधतापूर्ण और समृद्ध देश है, जहां सभ्यता, भाषा, धर्म और संस्कृति का अद्वितीय मेल मिलाप होता है।\n"
     ]
    }
   ],
   "source": [
    "# to see only the content (prior message ignores the kwargs trailing text too ... IDKWhy!)\n",
    "print(output.content)"
   ]
  },
  {
   "cell_type": "markdown",
   "id": "e8745c82",
   "metadata": {},
   "source": [
    "#### Prompt Templates"
   ]
  },
  {
   "cell_type": "code",
   "execution_count": 29,
   "id": "1ad0d5c6",
   "metadata": {},
   "outputs": [],
   "source": [
    "from langchain import PromptTemplate"
   ]
  },
  {
   "cell_type": "code",
   "execution_count": 30,
   "id": "ac8adc35",
   "metadata": {},
   "outputs": [
    {
     "name": "stdout",
     "output_type": "stream",
     "text": [
      "input_variables=['language', 'virus'] template='You are an experienced virologist.\\nWrite a few sentences about the following {virus} in {language}.'\n"
     ]
    }
   ],
   "source": [
    "template = '''You are an experienced virologist.\n",
    "Write a few sentences about the following {virus} in {language}.'''\n",
    "\n",
    "prompt = PromptTemplate(\n",
    "    input_variables=['virus','language'],\n",
    "    template=template\n",
    ")\n",
    "print(prompt)\n",
    "# this is the prompt object"
   ]
  },
  {
   "cell_type": "code",
   "execution_count": 31,
   "id": "1d883200",
   "metadata": {},
   "outputs": [
    {
     "name": "stdout",
     "output_type": "stream",
     "text": [
      "\n",
      "\n",
      "Эбола - это ужасное заразное заболевание, вызванное эбола-вирусом. Оно проявляется тяжелыми жаровнями, а также другими симптомами, такими как боль в мышцах, головная боль, тошнота и рвота. Без правильного лечения это заболевание может\n"
     ]
    }
   ],
   "source": [
    "from langchain.llms import OpenAI\n",
    "llm = OpenAI(model_name='text-davinci-003', temperature=0.7)\n",
    "output = llm(prompt.format(virus='ebola',language='russian'))\n",
    "print(output)"
   ]
  },
  {
   "cell_type": "code",
   "execution_count": 32,
   "id": "b5898012",
   "metadata": {},
   "outputs": [
    {
     "name": "stdout",
     "output_type": "stream",
     "text": [
      "\n",
      "\n",
      "HIV ist ein retrovirus, das den menschlichen Immunsystem schädigen kann. Es kann durch ungeschützten Geschlechtsverkehr, Bluttransfusionen, Muttermilch und direkte Blutkontakte übertragen werden. HIV kann unbehandelt zu AIDS führen, einer lebensbedrohlichen Erkrankung, die das Immunsystem schwächt und den Körper anfällig für verschiedene Krankheiten macht.\n"
     ]
    }
   ],
   "source": [
    "output = llm(prompt.format(virus='HIV',language='german'))\n",
    "print(output)"
   ]
  },
  {
   "cell_type": "code",
   "execution_count": 33,
   "id": "b8bbd2eb",
   "metadata": {},
   "outputs": [
    {
     "name": "stdout",
     "output_type": "stream",
     "text": [
      "\n",
      "\n",
      "Polio is a highly contagious virus that affects primarily children under the age of five. It can lead to paralysis, deformity, and even death in some cases. Polio is still a threat in Odisha, India, and it is important for everyone to take steps to prevent the spread of this virus. This includes washing hands often, ensuring that all children are vaccinated, and avoiding contact with anyone who may be infected. By following these simple steps, we can help protect our communities and reduce the risk of polio in Odisha.\n"
     ]
    }
   ],
   "source": [
    "output = llm(prompt.format(virus='polio',language='odia'))\n",
    "print(output)"
   ]
  },
  {
   "cell_type": "code",
   "execution_count": 34,
   "id": "7741460e",
   "metadata": {},
   "outputs": [
    {
     "name": "stdout",
     "output_type": "stream",
     "text": [
      "\n",
      "\n",
      "पोलियो एक भयानक वायरस है जो प्रायः आपके शरीर की ओर से स्पष्ट होने वाले सांसों के माध्यम से फैलती है। यह एक अक्सर शिशुओं पर असर डालती है और उन्हें स्थूलता गायब कर सकत\n"
     ]
    }
   ],
   "source": [
    "output = llm(prompt.format(virus='polio',language='hindi'))\n",
    "print(output)"
   ]
  },
  {
   "cell_type": "code",
   "execution_count": null,
   "id": "cf1ce38a",
   "metadata": {},
   "outputs": [],
   "source": []
  }
 ],
 "metadata": {
  "kernelspec": {
   "display_name": "Python 3 (ipykernel)",
   "language": "python",
   "name": "python3"
  },
  "language_info": {
   "codemirror_mode": {
    "name": "ipython",
    "version": 3
   },
   "file_extension": ".py",
   "mimetype": "text/x-python",
   "name": "python",
   "nbconvert_exporter": "python",
   "pygments_lexer": "ipython3",
   "version": "3.11.4"
  }
 },
 "nbformat": 4,
 "nbformat_minor": 5
}
